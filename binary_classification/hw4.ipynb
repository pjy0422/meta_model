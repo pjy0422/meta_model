{
 "cells": [
  {
   "cell_type": "markdown",
   "metadata": {},
   "source": [
    "#### 20190058 박준영\n",
    "\n",
    "#### 1.\n",
    "\n",
    "In *Sensemaking*, Christian Madsbjerg talks about a way to understand people and the world by using more than just numbers and data. He calls this approach \"sensemaking,\" which is about finding meaning in human experiences by looking at culture, history, and emotions. Madsbjerg believes that while big data is useful, it often misses the bigger picture because it only focuses on patterns and numbers without understanding why people do what they do. He argues that sensemaking is important in today’s world because it helps companies and leaders understand the full story behind people’s actions, so they can make better decisions that connect with real human needs. In the era of big data, he thinks sensemaking can balance data analysis by adding a deeper, more human perspective."
   ]
  },
  {
   "cell_type": "markdown",
   "metadata": {},
   "source": []
  }
 ],
 "metadata": {
  "language_info": {
   "name": "python"
  }
 },
 "nbformat": 4,
 "nbformat_minor": 2
}
